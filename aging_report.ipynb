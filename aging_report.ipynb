{
 "cells": [
  {
   "cell_type": "code",
   "execution_count": 15,
   "metadata": {},
   "outputs": [],
   "source": [
    "import pandas as pd"
   ]
  },
  {
   "cell_type": "code",
   "execution_count": 16,
   "metadata": {},
   "outputs": [],
   "source": [
    "xlsx = r\"C:\\Users\\mfaraday01\\Documents\\Code\\Aging Analysis\\credit_debit_records.xlsx\"\n",
    "debit = pd.read_excel (xlsx, \n",
    "                     sheet_name=\"Debits\"\n",
    "                     )\n",
    "credit = pd.read_excel (xlsx, \n",
    "                     sheet_name=\"Credit\"\n",
    "                     )"
   ]
  },
  {
   "cell_type": "code",
   "execution_count": null,
   "metadata": {},
   "outputs": [],
   "source": []
  }
 ],
 "metadata": {
  "interpreter": {
   "hash": "b530906740e17d7f7fe3ac8fcd7414016ab547826a256e102bc6b6c1bf788b1b"
  },
  "kernelspec": {
   "display_name": "Python 3.8.8 ('base')",
   "language": "python",
   "name": "python3"
  },
  "language_info": {
   "codemirror_mode": {
    "name": "ipython",
    "version": 3
   },
   "file_extension": ".py",
   "mimetype": "text/x-python",
   "name": "python",
   "nbconvert_exporter": "python",
   "pygments_lexer": "ipython3",
   "version": "3.8.8"
  },
  "orig_nbformat": 4
 },
 "nbformat": 4,
 "nbformat_minor": 2
}
