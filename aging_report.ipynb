{
 "cells": [
  {
   "cell_type": "code",
   "execution_count": 52,
   "metadata": {},
   "outputs": [],
   "source": [
    "import pandas as pd\n",
    "from datetime import timedelta"
   ]
  },
  {
   "cell_type": "code",
   "execution_count": 53,
   "metadata": {},
   "outputs": [],
   "source": [
    "# Read data from excel file\n",
    "\n",
    "xlsx = r\"C:\\Users\\mfaraday01\\Documents\\Code\\Aging Analysis\\credit_debit_records.xlsx\"\n",
    "debit = pd.read_excel (xlsx, \n",
    "                     sheet_name=\"Debits\"\n",
    "                     )\n",
    "credit = pd.read_excel (xlsx, \n",
    "                     sheet_name=\"Credit\"\n",
    "                     )"
   ]
  },
  {
   "cell_type": "code",
   "execution_count": 54,
   "metadata": {},
   "outputs": [],
   "source": [
    "# Unpivot \"debit\"\n",
    "\n",
    "debit_unpiv = debit.melt(id_vars=[\"Zone\", \"Region\", \"District\"], var_name=\"Date\", value_name=\"Balance\")"
   ]
  },
  {
   "cell_type": "code",
   "execution_count": 55,
   "metadata": {},
   "outputs": [
    {
     "data": {
      "text/html": [
       "<div>\n",
       "<style scoped>\n",
       "    .dataframe tbody tr th:only-of-type {\n",
       "        vertical-align: middle;\n",
       "    }\n",
       "\n",
       "    .dataframe tbody tr th {\n",
       "        vertical-align: top;\n",
       "    }\n",
       "\n",
       "    .dataframe thead th {\n",
       "        text-align: right;\n",
       "    }\n",
       "</style>\n",
       "<table border=\"1\" class=\"dataframe\">\n",
       "  <thead>\n",
       "    <tr style=\"text-align: right;\">\n",
       "      <th></th>\n",
       "      <th>Zone</th>\n",
       "      <th>Region</th>\n",
       "      <th>District</th>\n",
       "      <th>Date</th>\n",
       "      <th>Balance</th>\n",
       "    </tr>\n",
       "  </thead>\n",
       "  <tbody>\n",
       "    <tr>\n",
       "      <th>0</th>\n",
       "      <td>1</td>\n",
       "      <td>1</td>\n",
       "      <td>Agona Amenfi</td>\n",
       "      <td>2021-10-01</td>\n",
       "      <td>50</td>\n",
       "    </tr>\n",
       "    <tr>\n",
       "      <th>1</th>\n",
       "      <td>1</td>\n",
       "      <td>1</td>\n",
       "      <td>Asankragwa A</td>\n",
       "      <td>2021-10-01</td>\n",
       "      <td>200</td>\n",
       "    </tr>\n",
       "  </tbody>\n",
       "</table>\n",
       "</div>"
      ],
      "text/plain": [
       "  Zone Region      District        Date  Balance\n",
       "0    1      1  Agona Amenfi  2021-10-01       50\n",
       "1    1      1  Asankragwa A  2021-10-01      200"
      ]
     },
     "execution_count": 55,
     "metadata": {},
     "output_type": "execute_result"
    }
   ],
   "source": [
    "# Change datatypes\n",
    "\n",
    "debit_unpiv[[\"Zone\", \"Region\", \"District\"]] = debit_unpiv[[\"Zone\", \"Region\", \"District\"]].astype(str)\n",
    "debit_unpiv['Date'] = pd.to_datetime(debit_unpiv['Date']).dt.date"
   ]
  }
 ],
 "metadata": {
  "interpreter": {
   "hash": "bec69b81672a02f540ab0113131f7a49801c67a5334f6c8719952c3ea1d65c3b"
  },
  "kernelspec": {
   "display_name": "Python 3.8.8 ('base')",
   "language": "python",
   "name": "python3"
  },
  "language_info": {
   "codemirror_mode": {
    "name": "ipython",
    "version": 3
   },
   "file_extension": ".py",
   "mimetype": "text/x-python",
   "name": "python",
   "nbconvert_exporter": "python",
   "pygments_lexer": "ipython3",
   "version": "3.8.8"
  },
  "orig_nbformat": 4
 },
 "nbformat": 4,
 "nbformat_minor": 2
}
