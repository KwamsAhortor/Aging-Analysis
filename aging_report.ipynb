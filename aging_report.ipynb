{
 "cells": [
  {
   "cell_type": "code",
   "execution_count": 64,
   "metadata": {},
   "outputs": [],
   "source": [
    "import pandas as pd\n",
    "from datetime import datetime\n",
    "from datetime import timedelta"
   ]
  },
  {
   "cell_type": "code",
   "execution_count": 68,
   "metadata": {},
   "outputs": [],
   "source": [
    "# Read data from excel file\n",
    "\n",
    "xlsx = r\"C:\\Users\\mfaraday01\\Documents\\Code\\Aging Analysis\\credit_debit_records.xlsx\"\n",
    "debit = pd.read_excel (xlsx, \n",
    "                     sheet_name=\"Debits\"\n",
    "                     )\n",
    "credit = pd.read_excel (xlsx, \n",
    "                     sheet_name=\"Credit\"\n",
    "                     )"
   ]
  },
  {
   "cell_type": "code",
   "execution_count": 69,
   "metadata": {},
   "outputs": [],
   "source": [
    "# Unpivot \"debit\"\n",
    "\n",
    "debit_unpiv = debit.melt(id_vars=[\"Zone\", \"Region\", \"District\"], var_name=\"Date\", value_name=\"Balance\")"
   ]
  },
  {
   "cell_type": "code",
   "execution_count": 70,
   "metadata": {},
   "outputs": [],
   "source": [
    "# Change datatypes\n",
    "\n",
    "debit_unpiv[[\"Zone\", \"Region\", \"District\"]] = debit_unpiv[[\"Zone\", \"Region\", \"District\"]].astype(str)\n",
    "debit_unpiv['Date'] = pd.to_datetime(debit_unpiv['Date']).dt.date"
   ]
  },
  {
   "cell_type": "code",
   "execution_count": 82,
   "metadata": {},
   "outputs": [],
   "source": [
    "# Add new calculated columns\n",
    "\n",
    "debit_unpiv[\"Due date\"] = debit_unpiv[\"Date\"] + timedelta(days=7)\n",
    "debit_unpiv[\"Overdue\"] = (datetime.date(datetime.now()) - debit_unpiv[\"Due date\"]).dt.days.astype('int16')"
   ]
  },
  {
   "cell_type": "code",
   "execution_count": null,
   "metadata": {},
   "outputs": [],
   "source": []
  }
 ],
 "metadata": {
  "interpreter": {
   "hash": "bec69b81672a02f540ab0113131f7a49801c67a5334f6c8719952c3ea1d65c3b"
  },
  "kernelspec": {
   "display_name": "Python 3.8.8 ('base')",
   "language": "python",
   "name": "python3"
  },
  "language_info": {
   "codemirror_mode": {
    "name": "ipython",
    "version": 3
   },
   "file_extension": ".py",
   "mimetype": "text/x-python",
   "name": "python",
   "nbconvert_exporter": "python",
   "pygments_lexer": "ipython3",
   "version": "3.8.8"
  },
  "orig_nbformat": 4
 },
 "nbformat": 4,
 "nbformat_minor": 2
}
