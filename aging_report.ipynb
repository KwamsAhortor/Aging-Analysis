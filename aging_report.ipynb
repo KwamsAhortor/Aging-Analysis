{
 "cells": [
  {
   "cell_type": "code",
   "execution_count": 23,
   "metadata": {},
   "outputs": [],
   "source": [
    "import pandas as pd\n",
    "import numpy as np\n",
    "from datetime import datetime\n",
    "from datetime import timedelta"
   ]
  },
  {
   "cell_type": "code",
   "execution_count": 49,
   "metadata": {},
   "outputs": [],
   "source": [
    "# Read data from excel file\n",
    "\n",
    "xlsx = r\"C:\\Users\\mfaraday01\\Documents\\Code\\Aging Analysis\\credit_debit_records.xlsx\"\n",
    "debit = pd.read_excel (xlsx, \n",
    "                     sheet_name=\"Debits\"\n",
    "                     )\n",
    "credit = pd.read_excel (xlsx, \n",
    "                     sheet_name=\"Credit\"\n",
    "                     )"
   ]
  },
  {
   "cell_type": "code",
   "execution_count": 50,
   "metadata": {},
   "outputs": [],
   "source": [
    "# Unpivot \"debit df\"\n",
    "\n",
    "debit_unpiv = debit.melt(id_vars=[\"Zone\", \"Region\", \"District\"], var_name=\"Date\", value_name=\"Balance\")"
   ]
  },
  {
   "cell_type": "code",
   "execution_count": 51,
   "metadata": {},
   "outputs": [],
   "source": [
    "# Change datatypes\n",
    "\n",
    "debit_unpiv[[\"Zone\", \"Region\", \"District\"]] = debit_unpiv[[\"Zone\", \"Region\", \"District\"]].astype(str)\n",
    "debit_unpiv[\"Date\"] = pd.to_datetime(debit_unpiv[\"Date\"]).dt.date"
   ]
  },
  {
   "cell_type": "code",
   "execution_count": 52,
   "metadata": {},
   "outputs": [],
   "source": [
    "# Add new calculated columns\n",
    "\n",
    "debit_unpiv[\"Due date\"] = debit_unpiv[\"Date\"] + timedelta(days=7)\n",
    "debit_unpiv[\"Overdue\"] = (datetime.date(datetime.now()) - debit_unpiv[\"Due date\"]).dt.days.astype('int16')"
   ]
  },
  {
   "cell_type": "code",
   "execution_count": 84,
   "metadata": {},
   "outputs": [],
   "source": [
    "# Categorize overdue time to ages\n",
    "\n",
    "conditions = [\n",
    "               (debit_unpiv[\"Overdue\"] <= 7),\n",
    "               (debit_unpiv[\"Overdue\"] > 7) & (debit_unpiv[\"Overdue\"] <= 14),\n",
    "               (debit_unpiv[\"Overdue\"] > 14) & (debit_unpiv[\"Overdue\"] <= 21),\n",
    "               (debit_unpiv[\"Overdue\"] > 21) & (debit_unpiv[\"Overdue\"] <= 60),\n",
    "               (debit_unpiv[\"Overdue\"] > 60) & (debit_unpiv[\"Overdue\"] <= 120),\n",
    "               (debit_unpiv[\"Overdue\"] > 120) & (debit_unpiv[\"Overdue\"] <= 180),\n",
    "               (debit_unpiv[\"Overdue\"] > 180)               \n",
    "               ]\n",
    "\n",
    "choices = [\n",
    "            \"1-7 days\",\n",
    "            \"8-15\",\n",
    "            \"16-21\",\n",
    "            \"22-60 days\",\n",
    "            \"61-120 days\",\n",
    "            \"121-180 days\",\n",
    "            \"Above 180\"\n",
    "            ]\n",
    "\n",
    "debit_unpiv[\"Aging Status\"] = np.select(conditions, choices)"
   ]
  },
  {
   "cell_type": "code",
   "execution_count": null,
   "metadata": {},
   "outputs": [],
   "source": [
    "# Merge the two df\n",
    "\n",
    "debit_credit = debit_unpiv.merge(credit, on=\"District\")"
   ]
  },
  {
   "cell_type": "code",
   "execution_count": null,
   "metadata": {},
   "outputs": [],
   "source": [
    "#Sort and re-index df\n",
    "\n",
    "debit_credit = debit_credit.sort_values(by=[\"District\", \"Date\"], ascending=True)\n",
    "debit_credit = debit_credit.reset_index(drop=True)"
   ]
  },
  {
   "cell_type": "code",
   "execution_count": 88,
   "metadata": {},
   "outputs": [],
   "source": [
    "#Calculate for FIFO balances\n",
    "\n",
    "FIFO_balance = []\n",
    "bal_bf = 0\n",
    "indexor = -1\n",
    "indexor2 = 0\n",
    "dc_columns = list(debit_credit[\"District\"].unique())\n",
    "\n",
    "for i in debit_credit[\"Balance\"]:\n",
    "   indexor += 1\n",
    "   if debit_credit[\"District\"][indexor] == dc_columns[indexor2]:\n",
    "      bal = min(i, debit_credit[\"Total Credit\"][indexor] - bal_bf)\n",
    "      FIFO_balance.append(bal)\n",
    "      bal_bf += bal\n",
    "   else:\n",
    "      bal_bf = 0\n",
    "      indexor2 += 1\n",
    "      bal = min(i, debit_credit[\"Total Credit\"][indexor] - bal_bf)\n",
    "      FIFO_balance.append(bal)\n",
    "      bal_bf += bal\n",
    "      \n",
    "debit_credit[\"FIFO balance\"] = FIFO_balance"
   ]
  },
  {
   "cell_type": "code",
   "execution_count": null,
   "metadata": {},
   "outputs": [],
   "source": [
    "# Calculate for actual balances\n",
    "\n",
    "debit_credit[\"Actual balance\"] = debit_credit[\"Balance\"] - debit_credit[\"FIFO balance\"]"
   ]
  }
 ],
 "metadata": {
  "interpreter": {
   "hash": "bec69b81672a02f540ab0113131f7a49801c67a5334f6c8719952c3ea1d65c3b"
  },
  "kernelspec": {
   "display_name": "Python 3.8.8 ('base')",
   "language": "python",
   "name": "python3"
  },
  "language_info": {
   "codemirror_mode": {
    "name": "ipython",
    "version": 3
   },
   "file_extension": ".py",
   "mimetype": "text/x-python",
   "name": "python",
   "nbconvert_exporter": "python",
   "pygments_lexer": "ipython3",
   "version": "3.8.8"
  },
  "orig_nbformat": 4
 },
 "nbformat": 4,
 "nbformat_minor": 2
}
